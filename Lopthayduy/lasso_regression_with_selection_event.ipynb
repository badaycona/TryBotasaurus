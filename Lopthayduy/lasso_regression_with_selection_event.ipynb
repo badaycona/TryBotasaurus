{
 "cells": [
  {
   "cell_type": "code",
   "execution_count": 9,
   "id": "a0429364",
   "metadata": {},
   "outputs": [],
   "source": [
    "%matplotlib widget\n",
    "%matplotlib inline\n",
    "import numpy as np\n",
    "import matplotlib.pyplot as plt\n",
    "import pandas as pd\n",
    "from scipy.stats import norm, t, kstest\n",
    "from sklearn.linear_model import Lasso\n",
    "import statsmodels.api as sm\n",
    "import random\n",
    "np.random.seed(0)\n"
   ]
  },
  {
   "cell_type": "code",
   "execution_count": 10,
   "id": "4d742dd1",
   "metadata": {},
   "outputs": [],
   "source": [
    "\n",
    "n = 500\n",
    "p = 10\n",
    "iters = 10000\n",
    "lam = 0.1\n",
    "true_beta = np.zeros(p)  \n",
    "std_noise = 10\n",
    "\n",
    "X = np.random.normal(0, 1, size=(n, p))"
   ]
  },
  {
   "cell_type": "code",
   "execution_count": null,
   "id": "0768c35d",
   "metadata": {},
   "outputs": [],
   "source": [
    "\n",
    "\n",
    "def create_data(X, true_beta, intercept = 0, std_noise = 1):\n",
    "    n = X.shape[0]\n",
    "    linear_component = X @ true_beta\n",
    "    noise = np.random.normal(0, std_noise, size = n)\n",
    "    y = linear_component + noise + intercept\n",
    "    return y\n",
    "\n",
    "\n",
    "def fit_lasso_model_sklearn(X, y, lam):\n",
    "    model = Lasso(alpha=lam, fit_intercept=True, tol=1e-4, max_iter=2000)\n",
    "    model.fit(X, y)\n",
    "    return model.coef_, model.intercept_\n",
    "\n",
    "def fit_lasso_model(X, y, lam, max_iter = 7000, tol = 1e-5):\n",
    "    def soft_thresolding(rho, lam, z):\n",
    "        if rho < -lam:\n",
    "            return (rho + lam)/z\n",
    "        elif rho > lam:\n",
    "            return (rho - lam)/z\n",
    "        else:\n",
    "            return 0\n",
    "    n, p = X.shape\n",
    "    beta = np.zeros(p)\n",
    "    # residual = y - X @ beta\n",
    "    intercept = np.mean(y)\n",
    "    for iter in range(max_iter):\n",
    "        beta_old = beta.copy()\n",
    "        intercept_old = intercept\n",
    "\n",
    "        intercept = np.mean(y - X @ beta)\n",
    "        for j in range(p):\n",
    "            r_j = y - X @ beta + X[:, j] * beta[j] - intercept\n",
    "            rho = 1/n * X[:, j].T @ r_j\n",
    "            z = 1/n * (X[:, j] ** 2).sum()\n",
    "\n",
    "            beta[j] = soft_thresolding(rho, lam, z)\n",
    "            residual = r_j - X[:, j] * beta[j]\n",
    "        if np.linalg.norm(beta - beta_old, ord=1) < tol and abs(intercept - intercept_old) < tol:\n",
    "            break\n",
    "        # intercept = np.mean(y) - np.sum(np.mean(X, axis = 0) * beta) \n",
    "    return beta, intercept\n",
    "\n",
    "def calculating_p_value(X, active_set, y, beta_hat, intercept, std_noise, lam):\n",
    "    n, p = X.shape\n",
    "    X_active = X[:, active_set]\n",
    "    beta_hat_active = beta_hat[active_set]\n",
    "    p_active = len(active_set)\n",
    "    s = np.sign(beta_hat_active)   \n",
    "    choice = random.randint(0, p_active - 1)\n",
    "    e_j = np.zeros(p_active)\n",
    "    e_j[choice] = 1 \n",
    "    # etaT = e_j.T @ np.linalg.inv(X_active.T @ X_active) @ X_active.T \n",
    "    X_plus = np.linalg.inv(X_active.T @ X_active) @ X_active.T\n",
    "    eta = (X_plus.T @ e_j).reshape(-1, 1)\n",
    "    covariance_matrix = np.diag([std_noise ** 2] * n) #Too lazy to calculate this\n",
    "    identity_n = np.identity(n)\n",
    "    \n",
    "\n",
    "    projection_matrix = X_active @ np.linalg.inv(X_active.T @ X_active) @ X_active.T\n",
    "    non_active_set = np.setdiff1d(np.arange(p), active_set)\n",
    "    X_nonactive = X[:, non_active_set]\n",
    "    \n",
    "    A_0_helper = X_nonactive.T @ (identity_n - projection_matrix)\n",
    "    A_0 = 1/ lam * np.vstack([A_0_helper, - A_0_helper])\n",
    "\n",
    "    b_0_helper = (X_nonactive.T @ X_plus.T @ s).reshape(-1, 1)\n",
    "    b_0 = np.vstack([1 - b_0_helper, 1 + b_0_helper])\n",
    "    A_1 = -np.diag(s) @ X_plus\n",
    "    b_1 = (- lam * np.diag(s) @ np.linalg.inv(X_active.T @ X_active) @ s).reshape(-1, 1)\n",
    "    # print(X_plus.shape, projection_matrix.shape, A_0.shape, A_1.shape, b_0.shape, b_1.shape, b_0_helper.shape, covariance_matrix.shape, eta.shape)\n",
    "    A = np.vstack([A_0, A_1])\n",
    "    b = np.vstack([b_0, b_1])\n",
    "\n",
    "    c = covariance_matrix @ eta @ np.linalg.inv( eta.T @ covariance_matrix @ eta)\n",
    "    z = (identity_n - eta.T @ c) @ y\n",
    "    \n",
    "    Az = A @ z\n",
    "    Ac = A @ c\n",
    "    #define boundary V_-, V_+, V_0\n",
    "    vminus = float('-inf')\n",
    "    vplus = float('inf')\n",
    "    v_0 = float('inf')\n",
    "    for idx in range(A.shape[0]):\n",
    "        if Ac[idx] > 0 and (b[idx] - Az[idx]) / Ac[idx] < vplus:\n",
    "            vplus = (b[idx] - Az[idx]) / Ac[idx]\n",
    "        elif Ac[idx] < 0 and (b[idx] - Az[idx]) / Ac[idx] > vminus:\n",
    "            vminus = (b[idx] - Az[idx]) / Ac[idx]\n",
    "        elif Ac[idx] == 0 and b[idx] - Az[idx] < v_0:\n",
    "            v_0 = b[idx] - Az[idx]\n",
    "    if v_0 == 0:\n",
    "        return 0\n",
    "    else:\n",
    "        return 2 * min(1 - f(0, std_noise, vminus, vplus, beta_hat[choice]), f(0, std_noise, vminus, vplus, beta_hat[choice]))\n",
    "def f(mu, sigma, a, b, x):\n",
    "    return (norm.cdf(x, loc = mu, scale = sigma) - norm.cdf(a, loc = mu, scale = sigma)) / (norm.cdf(b, loc = mu, scale = sigma) - norm.cdf(a, loc = mu, scale = sigma))\n",
    "\n",
    "\n",
    "\n",
    "\n"
   ]
  },
  {
   "cell_type": "code",
   "execution_count": 12,
   "id": "b0b02e0d",
   "metadata": {},
   "outputs": [
    {
     "name": "stderr",
     "output_type": "stream",
     "text": [
      "C:\\Users\\Admin\\AppData\\Local\\Temp\\ipykernel_22644\\955285985.py:93: RuntimeWarning: divide by zero encountered in divide\n",
      "  return (norm.cdf(x, loc = mu, scale = sigma) - norm.cdf(a, loc = mu, scale = sigma)) / (norm.cdf(b, loc = mu, scale = sigma) - norm.cdf(a, loc = mu, scale = sigma))\n"
     ]
    }
   ],
   "source": [
    "beta_hat_list = [] \n",
    "p_values_lists = []\n",
    "ran_p_values_list = []\n",
    "for iter in range(iters):\n",
    "    y = create_data(X, true_beta, 0, std_noise)\n",
    "    beta_hat, intercept = fit_lasso_model(X, y, lam)\n",
    "    \n",
    "    full_beta = np.concatenate([[intercept], beta_hat])\n",
    "    beta_hat_list.append(full_beta)\n",
    "\n",
    "    active_set = np.where(np.abs(beta_hat) > 1e-4)[0]\n",
    "    p_value = calculating_p_value(X, active_set, y, beta_hat, intercept, std_noise, lam)\n",
    "    p_values_lists.append(p_value)"
   ]
  },
  {
   "cell_type": "code",
   "execution_count": 13,
   "id": "18055b71",
   "metadata": {},
   "outputs": [],
   "source": [
    "# beta_df = pd.DataFrame(beta_hat_list)\n",
    "\n",
    "# fig, axes = plt.subplots(2, 3, figsize = (15, 10))\n",
    "# axes = axes.flatten()\n",
    "\n",
    "# for idx in range(6):\n",
    "#     axes[idx].hist(beta_df[idx], bins = 30, density = True,edgecolor = 'black')\n",
    "#     axes[idx].set_title(f'Phân phối của beta{idx}')\n",
    "#     axes[idx].set_xlabel('beta')\n",
    "#     axes[idx].set_ylabel('Số lần')\n",
    "# axes[0].set_title(f'intercept')"
   ]
  },
  {
   "cell_type": "code",
   "execution_count": 14,
   "id": "067b339b",
   "metadata": {},
   "outputs": [
    {
     "data": {
      "image/png": "[encoded data removed]",
      "text/plain": [
       "<Figure size 640x480 with 1 Axes>"
      ]
     },
     "metadata": {},
     "output_type": "display_data"
    }
   ],
   "source": [
    "\n",
    "\n",
    "plt.figure()\n",
    "plt.xlim(0, 1)\n",
    "plt.hist(ran_p_values_list, bins = 50)\n",
    "plt.title(f'Lowest chosen j in active set p_values distribution')\n",
    "plt.xlabel(f'p-value')\n",
    "plt.ylabel(f'Frequency')\n",
    "\n",
    "plt.show()\n"
   ]
  },
  {
   "cell_type": "code",
   "execution_count": 15,
   "id": "85880253",
   "metadata": {},
   "outputs": [
    {
     "ename": "ValueError",
     "evalue": "zero-size array to reduction operation maximum which has no identity",
     "output_type": "error",
     "traceback": [
      "\u001b[31m---------------------------------------------------------------------------\u001b[39m",
      "\u001b[31mValueError\u001b[39m                                Traceback (most recent call last)",
      "\u001b[36mCell\u001b[39m\u001b[36m \u001b[39m\u001b[32mIn[15]\u001b[39m\u001b[32m, line 2\u001b[39m\n\u001b[32m      1\u001b[39m ran_p_values_list = np.array(ran_p_values_list)\n\u001b[32m----> \u001b[39m\u001b[32m2\u001b[39m \u001b[38;5;28mprint\u001b[39m(\u001b[43mnp\u001b[49m\u001b[43m.\u001b[49m\u001b[43mmax\u001b[49m\u001b[43m(\u001b[49m\u001b[43mran_p_values_list\u001b[49m\u001b[43m)\u001b[49m)\n\u001b[32m      3\u001b[39m \u001b[38;5;28mprint\u001b[39m(\u001b[38;5;28mlen\u001b[39m(ran_p_values_list))\n\u001b[32m      4\u001b[39m \u001b[38;5;28mprint\u001b[39m(np.sum(ran_p_values_list > \u001b[32m0.8\u001b[39m))\n",
      "\u001b[36mFile \u001b[39m\u001b[32mD:\\Lib\\site-packages\\numpy\\_core\\fromnumeric.py:3199\u001b[39m, in \u001b[36mmax\u001b[39m\u001b[34m(a, axis, out, keepdims, initial, where)\u001b[39m\n\u001b[32m   3080\u001b[39m \u001b[38;5;129m@array_function_dispatch\u001b[39m(_max_dispatcher)\n\u001b[32m   3081\u001b[39m \u001b[38;5;129m@set_module\u001b[39m(\u001b[33m'\u001b[39m\u001b[33mnumpy\u001b[39m\u001b[33m'\u001b[39m)\n\u001b[32m   3082\u001b[39m \u001b[38;5;28;01mdef\u001b[39;00m\u001b[38;5;250m \u001b[39m\u001b[34mmax\u001b[39m(a, axis=\u001b[38;5;28;01mNone\u001b[39;00m, out=\u001b[38;5;28;01mNone\u001b[39;00m, keepdims=np._NoValue, initial=np._NoValue,\n\u001b[32m   3083\u001b[39m          where=np._NoValue):\n\u001b[32m   3084\u001b[39m \u001b[38;5;250m    \u001b[39m\u001b[33;03m\"\"\"\u001b[39;00m\n\u001b[32m   3085\u001b[39m \u001b[33;03m    Return the maximum of an array or maximum along an axis.\u001b[39;00m\n\u001b[32m   3086\u001b[39m \n\u001b[32m   (...)\u001b[39m\u001b[32m   3197\u001b[39m \u001b[33;03m    5\u001b[39;00m\n\u001b[32m   3198\u001b[39m \u001b[33;03m    \"\"\"\u001b[39;00m\n\u001b[32m-> \u001b[39m\u001b[32m3199\u001b[39m     \u001b[38;5;28;01mreturn\u001b[39;00m \u001b[43m_wrapreduction\u001b[49m\u001b[43m(\u001b[49m\u001b[43ma\u001b[49m\u001b[43m,\u001b[49m\u001b[43m \u001b[49m\u001b[43mnp\u001b[49m\u001b[43m.\u001b[49m\u001b[43mmaximum\u001b[49m\u001b[43m,\u001b[49m\u001b[43m \u001b[49m\u001b[33;43m'\u001b[39;49m\u001b[33;43mmax\u001b[39;49m\u001b[33;43m'\u001b[39;49m\u001b[43m,\u001b[49m\u001b[43m \u001b[49m\u001b[43maxis\u001b[49m\u001b[43m,\u001b[49m\u001b[43m \u001b[49m\u001b[38;5;28;43;01mNone\u001b[39;49;00m\u001b[43m,\u001b[49m\u001b[43m \u001b[49m\u001b[43mout\u001b[49m\u001b[43m,\u001b[49m\n\u001b[32m   3200\u001b[39m \u001b[43m                          \u001b[49m\u001b[43mkeepdims\u001b[49m\u001b[43m=\u001b[49m\u001b[43mkeepdims\u001b[49m\u001b[43m,\u001b[49m\u001b[43m \u001b[49m\u001b[43minitial\u001b[49m\u001b[43m=\u001b[49m\u001b[43minitial\u001b[49m\u001b[43m,\u001b[49m\u001b[43m \u001b[49m\u001b[43mwhere\u001b[49m\u001b[43m=\u001b[49m\u001b[43mwhere\u001b[49m\u001b[43m)\u001b[49m\n",
      "\u001b[36mFile \u001b[39m\u001b[32mD:\\Lib\\site-packages\\numpy\\_core\\fromnumeric.py:86\u001b[39m, in \u001b[36m_wrapreduction\u001b[39m\u001b[34m(obj, ufunc, method, axis, dtype, out, **kwargs)\u001b[39m\n\u001b[32m     83\u001b[39m         \u001b[38;5;28;01melse\u001b[39;00m:\n\u001b[32m     84\u001b[39m             \u001b[38;5;28;01mreturn\u001b[39;00m reduction(axis=axis, out=out, **passkwargs)\n\u001b[32m---> \u001b[39m\u001b[32m86\u001b[39m \u001b[38;5;28;01mreturn\u001b[39;00m \u001b[43mufunc\u001b[49m\u001b[43m.\u001b[49m\u001b[43mreduce\u001b[49m\u001b[43m(\u001b[49m\u001b[43mobj\u001b[49m\u001b[43m,\u001b[49m\u001b[43m \u001b[49m\u001b[43maxis\u001b[49m\u001b[43m,\u001b[49m\u001b[43m \u001b[49m\u001b[43mdtype\u001b[49m\u001b[43m,\u001b[49m\u001b[43m \u001b[49m\u001b[43mout\u001b[49m\u001b[43m,\u001b[49m\u001b[43m \u001b[49m\u001b[43m*\u001b[49m\u001b[43m*\u001b[49m\u001b[43mpasskwargs\u001b[49m\u001b[43m)\u001b[49m\n",
      "\u001b[31mValueError\u001b[39m: zero-size array to reduction operation maximum which has no identity"
     ]
    }
   ],
   "source": [
    "ran_p_values_list = np.array(ran_p_values_list)\n",
    "print(np.max(ran_p_values_list))\n",
    "print(len(ran_p_values_list))\n",
    "print(np.sum(ran_p_values_list > 0.8))\n",
    "print(np.sum(ran_p_values_list<0.2))"
   ]
  }
 ],
 "metadata": {
  "kernelspec": {
   "display_name": "Python 3",
   "language": "python",
   "name": "python3"
  },
  "language_info": {
   "codemirror_mode": {
    "name": "ipython",
    "version": 3
   },
   "file_extension": ".py",
   "mimetype": "text/x-python",
   "name": "python",
   "nbconvert_exporter": "python",
   "pygments_lexer": "ipython3",
   "version": "3.13.0"
  }
 },
 "nbformat": 4,
 "nbformat_minor": 5
}
