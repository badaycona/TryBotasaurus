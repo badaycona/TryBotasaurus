{
 "cells": [
  {
   "cell_type": "code",
   "execution_count": 1,
   "metadata": {},
   "outputs": [
    {
     "ename": "AttributeError",
     "evalue": "module 'numpy.random' has no attribute 'nonrmal'",
     "output_type": "error",
     "traceback": [
      "\u001b[1;31m---------------------------------------------------------------------------\u001b[0m",
      "\u001b[1;31mAttributeError\u001b[0m                            Traceback (most recent call last)",
      "Cell \u001b[1;32mIn[1], line 23\u001b[0m\n\u001b[0;32m     21\u001b[0m n_train \u001b[38;5;241m=\u001b[39m \u001b[38;5;241m80\u001b[39m\n\u001b[0;32m     22\u001b[0m n_test \u001b[38;5;241m=\u001b[39m \u001b[38;5;241m20\u001b[39m\n\u001b[1;32m---> 23\u001b[0m X_train, y_train \u001b[38;5;241m=\u001b[39m \u001b[43mgenerate_data\u001b[49m\u001b[43m(\u001b[49m\u001b[43mn_train\u001b[49m\u001b[43m)\u001b[49m\n\u001b[0;32m     24\u001b[0m X_test, y_test \u001b[38;5;241m=\u001b[39m generate_data(n_test)\n\u001b[0;32m     26\u001b[0m plt\u001b[38;5;241m.\u001b[39mscatter(X_train, y_train, c\u001b[38;5;241m=\u001b[39my_train)\n",
      "Cell \u001b[1;32mIn[1], line 12\u001b[0m, in \u001b[0;36mgenerate_data\u001b[1;34m(n)\u001b[0m\n\u001b[0;32m     10\u001b[0m \u001b[38;5;28;01mfor\u001b[39;00m i \u001b[38;5;129;01min\u001b[39;00m \u001b[38;5;28mrange\u001b[39m(n):\n\u001b[0;32m     11\u001b[0m     \u001b[38;5;28;01mif\u001b[39;00m i \u001b[38;5;241m<\u001b[39m\u001b[38;5;241m=\u001b[39m n\u001b[38;5;241m/\u001b[39m\u001b[38;5;241m2\u001b[39m:\n\u001b[1;32m---> 12\u001b[0m         X\u001b[38;5;241m.\u001b[39mappend(\u001b[43mnp\u001b[49m\u001b[38;5;241;43m.\u001b[39;49m\u001b[43mrandom\u001b[49m\u001b[38;5;241;43m.\u001b[39;49m\u001b[43mnonrmal\u001b[49m(loc\u001b[38;5;241m=\u001b[39m\u001b[38;5;241m4\u001b[39m, scale\u001b[38;5;241m=\u001b[39m\u001b[38;5;241m1\u001b[39m))\n\u001b[0;32m     13\u001b[0m         y\u001b[38;5;241m.\u001b[39mappend(\u001b[38;5;241m0\u001b[39m)\n\u001b[0;32m     14\u001b[0m     \u001b[38;5;28;01melse\u001b[39;00m:\n",
      "\u001b[1;31mAttributeError\u001b[0m: module 'numpy.random' has no attribute 'nonrmal'"
     ]
    }
   ],
   "source": [
    "import numpy as np\n",
    "import matplotlib.pyplot as plt\n",
    "from sklearn.linear_model import LogisticRegression\n",
    "from sklearn.metrics import accuracy_score\n",
    "\n",
    "\n",
    "def generate_data(n):\n",
    "    X = []\n",
    "    y = []\n",
    "    for i in range(n):\n",
    "        if i <= n/2:\n",
    "            X.append(np.random.nonrmal(loc=4, scale=1))\n",
    "            y.append(0)\n",
    "        else:\n",
    "            X.append(np.random.normal(loc=8, scale=1))\n",
    "            y.append(1)\n",
    "\n",
    "    return np.array(X).reshape(n, 1), np.array(y)\n",
    "\n",
    "\n",
    "n_train = 80\n",
    "n_test = 20\n",
    "X_train, y_train = generate_data(n_train)\n",
    "X_test, y_test = generate_data(n_test)\n",
    "\n",
    "plt.scatter(X_train, y_train, c=y_train)\n",
    "plt.show()"
   ]
  }
 ],
 "metadata": {
  "kernelspec": {
   "display_name": "Python 3",
   "language": "python",
   "name": "python3"
  },
  "language_info": {
   "codemirror_mode": {
    "name": "ipython",
    "version": 3
   },
   "file_extension": ".py",
   "mimetype": "text/x-python",
   "name": "python",
   "nbconvert_exporter": "python",
   "pygments_lexer": "ipython3",
   "version": "3.12.6"
  }
 },
 "nbformat": 4,
 "nbformat_minor": 2
}
